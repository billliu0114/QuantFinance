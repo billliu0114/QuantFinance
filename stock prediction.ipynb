{
 "metadata": {
  "language_info": {
   "codemirror_mode": {
    "name": "ipython",
    "version": 3
   },
   "file_extension": ".py",
   "mimetype": "text/x-python",
   "name": "python",
   "nbconvert_exporter": "python",
   "pygments_lexer": "ipython3",
   "version": "3.8.6"
  },
  "orig_nbformat": 2,
  "kernelspec": {
   "name": "python3",
   "display_name": "Python 3.8.6 64-bit ('cpsc330env': conda)"
  },
  "interpreter": {
   "hash": "bfeaae61428b2cf293627495c585cf7905399716d4b910c74e836b589f6e05ee"
  }
 },
 "nbformat": 4,
 "nbformat_minor": 2,
 "cells": [
  {
   "cell_type": "code",
   "execution_count": 4,
   "metadata": {},
   "outputs": [],
   "source": [
    "import pandas as pd\n",
    "import numpy as np\n",
    "from datetime import datetime\n",
    "import matplotlib.pyplot as plt\n",
    "plt.style.use('fivethirtyeight')\n",
    "from pandas_datareader import data\n",
    "import matplotlib.pyplot as plt\n",
    "\n",
    "from sklearn.metrics import mean_squared_error, r2_score, make_scorer\n",
    "from sklearn.impute import SimpleImputer\n",
    "from sklearn.compose import ColumnTransformer\n",
    "from sklearn.pipeline import Pipeline, make_pipeline\n",
    "from sklearn.preprocessing import StandardScaler, OrdinalEncoder, OneHotEncoder\n",
    "from sklearn.linear_model import LinearRegression, Ridge, RidgeCV"
   ]
  },
  {
   "cell_type": "code",
   "execution_count": 5,
   "metadata": {},
   "outputs": [
    {
     "output_type": "execute_result",
     "data": {
      "text/plain": [
       "                 High        Low       Open      Close       Volume  Adj Close\n",
       "Date                                                                          \n",
       "2017-01-03  29.082500  28.690001  28.950001  29.037500  115127600.0  27.372362\n",
       "2017-01-04  29.127501  28.937500  28.962500  29.004999   84472400.0  27.341724\n",
       "2017-01-05  29.215000  28.952499  28.980000  29.152500   88774400.0  27.480770\n",
       "2017-01-06  29.540001  29.117500  29.195000  29.477501  127007600.0  27.787130\n",
       "2017-01-09  29.857500  29.485001  29.487499  29.747499  134247600.0  28.041647"
      ],
      "text/html": "<div>\n<style scoped>\n    .dataframe tbody tr th:only-of-type {\n        vertical-align: middle;\n    }\n\n    .dataframe tbody tr th {\n        vertical-align: top;\n    }\n\n    .dataframe thead th {\n        text-align: right;\n    }\n</style>\n<table border=\"1\" class=\"dataframe\">\n  <thead>\n    <tr style=\"text-align: right;\">\n      <th></th>\n      <th>High</th>\n      <th>Low</th>\n      <th>Open</th>\n      <th>Close</th>\n      <th>Volume</th>\n      <th>Adj Close</th>\n    </tr>\n    <tr>\n      <th>Date</th>\n      <th></th>\n      <th></th>\n      <th></th>\n      <th></th>\n      <th></th>\n      <th></th>\n    </tr>\n  </thead>\n  <tbody>\n    <tr>\n      <th>2017-01-03</th>\n      <td>29.082500</td>\n      <td>28.690001</td>\n      <td>28.950001</td>\n      <td>29.037500</td>\n      <td>115127600.0</td>\n      <td>27.372362</td>\n    </tr>\n    <tr>\n      <th>2017-01-04</th>\n      <td>29.127501</td>\n      <td>28.937500</td>\n      <td>28.962500</td>\n      <td>29.004999</td>\n      <td>84472400.0</td>\n      <td>27.341724</td>\n    </tr>\n    <tr>\n      <th>2017-01-05</th>\n      <td>29.215000</td>\n      <td>28.952499</td>\n      <td>28.980000</td>\n      <td>29.152500</td>\n      <td>88774400.0</td>\n      <td>27.480770</td>\n    </tr>\n    <tr>\n      <th>2017-01-06</th>\n      <td>29.540001</td>\n      <td>29.117500</td>\n      <td>29.195000</td>\n      <td>29.477501</td>\n      <td>127007600.0</td>\n      <td>27.787130</td>\n    </tr>\n    <tr>\n      <th>2017-01-09</th>\n      <td>29.857500</td>\n      <td>29.485001</td>\n      <td>29.487499</td>\n      <td>29.747499</td>\n      <td>134247600.0</td>\n      <td>28.041647</td>\n    </tr>\n  </tbody>\n</table>\n</div>"
     },
     "metadata": {},
     "execution_count": 5
    }
   ],
   "source": [
    "aapl = data.DataReader(\"AAPL\", \n",
    "                       start='2017-1-1', \n",
    "                       end='2021-1-1', \n",
    "                       data_source='yahoo')\n",
    "aapl.head()"
   ]
  },
  {
   "cell_type": "code",
   "execution_count": 6,
   "metadata": {},
   "outputs": [
    {
     "output_type": "execute_result",
     "data": {
      "text/plain": [
       "           Date        High         Low        Open       Close       Volume  \\\n",
       "0    2017-01-03   29.082500   28.690001   28.950001   29.037500  115127600.0   \n",
       "1    2017-01-04   29.127501   28.937500   28.962500   29.004999   84472400.0   \n",
       "2    2017-01-05   29.215000   28.952499   28.980000   29.152500   88774400.0   \n",
       "3    2017-01-06   29.540001   29.117500   29.195000   29.477501  127007600.0   \n",
       "4    2017-01-09   29.857500   29.485001   29.487499   29.747499  134247600.0   \n",
       "...         ...         ...         ...         ...         ...          ...   \n",
       "1002 2020-12-24  133.460007  131.100006  131.320007  131.970001   54930100.0   \n",
       "1003 2020-12-28  137.339996  133.509995  133.990005  136.690002  124486200.0   \n",
       "1004 2020-12-29  138.789993  134.339996  138.050003  134.869995  121047300.0   \n",
       "1005 2020-12-30  135.990005  133.399994  135.580002  133.720001   96452100.0   \n",
       "1006 2020-12-31  134.740005  131.720001  134.080002  132.690002   99116600.0   \n",
       "\n",
       "       Adj Close  \n",
       "0      27.372362  \n",
       "1      27.341724  \n",
       "2      27.480770  \n",
       "3      27.787130  \n",
       "4      28.041647  \n",
       "...          ...  \n",
       "1002  131.352829  \n",
       "1003  136.050766  \n",
       "1004  134.239273  \n",
       "1005  133.094650  \n",
       "1006  132.069473  \n",
       "\n",
       "[1007 rows x 7 columns]"
      ],
      "text/html": "<div>\n<style scoped>\n    .dataframe tbody tr th:only-of-type {\n        vertical-align: middle;\n    }\n\n    .dataframe tbody tr th {\n        vertical-align: top;\n    }\n\n    .dataframe thead th {\n        text-align: right;\n    }\n</style>\n<table border=\"1\" class=\"dataframe\">\n  <thead>\n    <tr style=\"text-align: right;\">\n      <th></th>\n      <th>Date</th>\n      <th>High</th>\n      <th>Low</th>\n      <th>Open</th>\n      <th>Close</th>\n      <th>Volume</th>\n      <th>Adj Close</th>\n    </tr>\n  </thead>\n  <tbody>\n    <tr>\n      <th>0</th>\n      <td>2017-01-03</td>\n      <td>29.082500</td>\n      <td>28.690001</td>\n      <td>28.950001</td>\n      <td>29.037500</td>\n      <td>115127600.0</td>\n      <td>27.372362</td>\n    </tr>\n    <tr>\n      <th>1</th>\n      <td>2017-01-04</td>\n      <td>29.127501</td>\n      <td>28.937500</td>\n      <td>28.962500</td>\n      <td>29.004999</td>\n      <td>84472400.0</td>\n      <td>27.341724</td>\n    </tr>\n    <tr>\n      <th>2</th>\n      <td>2017-01-05</td>\n      <td>29.215000</td>\n      <td>28.952499</td>\n      <td>28.980000</td>\n      <td>29.152500</td>\n      <td>88774400.0</td>\n      <td>27.480770</td>\n    </tr>\n    <tr>\n      <th>3</th>\n      <td>2017-01-06</td>\n      <td>29.540001</td>\n      <td>29.117500</td>\n      <td>29.195000</td>\n      <td>29.477501</td>\n      <td>127007600.0</td>\n      <td>27.787130</td>\n    </tr>\n    <tr>\n      <th>4</th>\n      <td>2017-01-09</td>\n      <td>29.857500</td>\n      <td>29.485001</td>\n      <td>29.487499</td>\n      <td>29.747499</td>\n      <td>134247600.0</td>\n      <td>28.041647</td>\n    </tr>\n    <tr>\n      <th>...</th>\n      <td>...</td>\n      <td>...</td>\n      <td>...</td>\n      <td>...</td>\n      <td>...</td>\n      <td>...</td>\n      <td>...</td>\n    </tr>\n    <tr>\n      <th>1002</th>\n      <td>2020-12-24</td>\n      <td>133.460007</td>\n      <td>131.100006</td>\n      <td>131.320007</td>\n      <td>131.970001</td>\n      <td>54930100.0</td>\n      <td>131.352829</td>\n    </tr>\n    <tr>\n      <th>1003</th>\n      <td>2020-12-28</td>\n      <td>137.339996</td>\n      <td>133.509995</td>\n      <td>133.990005</td>\n      <td>136.690002</td>\n      <td>124486200.0</td>\n      <td>136.050766</td>\n    </tr>\n    <tr>\n      <th>1004</th>\n      <td>2020-12-29</td>\n      <td>138.789993</td>\n      <td>134.339996</td>\n      <td>138.050003</td>\n      <td>134.869995</td>\n      <td>121047300.0</td>\n      <td>134.239273</td>\n    </tr>\n    <tr>\n      <th>1005</th>\n      <td>2020-12-30</td>\n      <td>135.990005</td>\n      <td>133.399994</td>\n      <td>135.580002</td>\n      <td>133.720001</td>\n      <td>96452100.0</td>\n      <td>133.094650</td>\n    </tr>\n    <tr>\n      <th>1006</th>\n      <td>2020-12-31</td>\n      <td>134.740005</td>\n      <td>131.720001</td>\n      <td>134.080002</td>\n      <td>132.690002</td>\n      <td>99116600.0</td>\n      <td>132.069473</td>\n    </tr>\n  </tbody>\n</table>\n<p>1007 rows × 7 columns</p>\n</div>"
     },
     "metadata": {},
     "execution_count": 6
    }
   ],
   "source": [
    "df = aapl.reset_index()\n",
    "df"
   ]
  },
  {
   "cell_type": "code",
   "execution_count": 7,
   "metadata": {},
   "outputs": [],
   "source": [
    "def create_lag_feature(df, orig_feature, lag, new_feature_name=None, clip=False):\n",
    "    \"\"\"\n",
    "    Creates a new feature that's a lagged version of an existing one.\n",
    "    \n",
    "    NOTE: assumes df is already sorted by the time columns and has unique indices.\n",
    "    \n",
    "    Parameters\n",
    "    ----------\n",
    "    df : pandas.core.frame.DataFrame\n",
    "        The dataset.\n",
    "    orig_feature : str\n",
    "        The column name of the feature we're copying\n",
    "    lag : int\n",
    "        The lag; negative lag means values from the past, positive lag means values from the future\n",
    "    groupby : list\n",
    "        Column(s) to group by in case df contains multiple time series\n",
    "    new_feature_name : str\n",
    "        Override the default name of the newly created column\n",
    "    clip : bool\n",
    "        If True, remove rows with a NaN values for the new feature\n",
    "    \n",
    "    Returns\n",
    "    -------\n",
    "    pandas.core.frame.DataFrame\n",
    "        A new dataframe with the additional column added.\n",
    "    \"\"\"\n",
    "        \n",
    "    if new_feature_name is None:\n",
    "        if lag < 0:\n",
    "            new_feature_name = \"%s_lag%d\" % (orig_feature, -lag)\n",
    "        else:\n",
    "            new_feature_name = \"%s_ahead%d\" % (orig_feature, lag)\n",
    "    \n",
    "    new_df = df.assign(**{new_feature_name : np.nan})\n",
    "    # for name, group in new_df.groupby(groupby):        \n",
    "    if lag < 0: # take values from the past\n",
    "        new_df.iloc[-lag:][new_feature_name] = df.iloc[:lag][orig_feature].values\n",
    "    else:       # take values from the future\n",
    "        new_df.iloc[:-lag][new_feature_name] = df.iloc[lag:][orig_feature].values\n",
    "            \n",
    "    if clip:\n",
    "        new_df = new_df.dropna(subset=[new_feature_name])\n",
    "        \n",
    "    return new_df"
   ]
  },
  {
   "cell_type": "code",
   "execution_count": 9,
   "metadata": {},
   "outputs": [
    {
     "output_type": "stream",
     "name": "stderr",
     "text": [
      "<ipython-input-7-99e37718b1ae>:39: SettingWithCopyWarning: \nA value is trying to be set on a copy of a slice from a DataFrame.\nTry using .loc[row_indexer,col_indexer] = value instead\n\nSee the caveats in the documentation: https://pandas.pydata.org/pandas-docs/stable/user_guide/indexing.html#returning-a-view-versus-a-copy\n  new_df.iloc[:-lag][new_feature_name] = df.iloc[lag:][orig_feature].values\n"
     ]
    },
    {
     "output_type": "execute_result",
     "data": {
      "text/plain": [
       "          Date        High         Low        Open       Close       Volume  \\\n",
       "0   2017-01-03   29.082500   28.690001   28.950001   29.037500  115127600.0   \n",
       "1   2017-01-04   29.127501   28.937500   28.962500   29.004999   84472400.0   \n",
       "2   2017-01-05   29.215000   28.952499   28.980000   29.152500   88774400.0   \n",
       "3   2017-01-06   29.540001   29.117500   29.195000   29.477501  127007600.0   \n",
       "4   2017-01-09   29.857500   29.485001   29.487499   29.747499  134247600.0   \n",
       "..         ...         ...         ...         ...         ...          ...   \n",
       "974 2020-11-13  119.669998  117.870003  119.440002  119.260002   81581900.0   \n",
       "975 2020-11-16  120.989998  118.150002  118.919998  120.300003   91183000.0   \n",
       "976 2020-11-17  120.669998  118.959999  119.550003  119.389999   74271000.0   \n",
       "977 2020-11-18  119.820000  118.000000  118.610001  118.029999   76322100.0   \n",
       "978 2020-11-19  119.059998  116.809998  117.589996  118.639999   74113000.0   \n",
       "\n",
       "      Adj Close  AdjCloseNextMonth  \n",
       "0     27.372362          31.547823  \n",
       "1     27.341724          31.957304  \n",
       "2     27.480770          32.073269  \n",
       "3     27.787130          32.035400  \n",
       "4     28.041647          32.122974  \n",
       "..          ...                ...  \n",
       "974  118.702278         131.352829  \n",
       "975  119.737419         136.050766  \n",
       "976  118.831673         134.239273  \n",
       "977  117.478035         133.094650  \n",
       "978  118.085182         132.069473  \n",
       "\n",
       "[979 rows x 8 columns]"
      ],
      "text/html": "<div>\n<style scoped>\n    .dataframe tbody tr th:only-of-type {\n        vertical-align: middle;\n    }\n\n    .dataframe tbody tr th {\n        vertical-align: top;\n    }\n\n    .dataframe thead th {\n        text-align: right;\n    }\n</style>\n<table border=\"1\" class=\"dataframe\">\n  <thead>\n    <tr style=\"text-align: right;\">\n      <th></th>\n      <th>Date</th>\n      <th>High</th>\n      <th>Low</th>\n      <th>Open</th>\n      <th>Close</th>\n      <th>Volume</th>\n      <th>Adj Close</th>\n      <th>AdjCloseNextMonth</th>\n    </tr>\n  </thead>\n  <tbody>\n    <tr>\n      <th>0</th>\n      <td>2017-01-03</td>\n      <td>29.082500</td>\n      <td>28.690001</td>\n      <td>28.950001</td>\n      <td>29.037500</td>\n      <td>115127600.0</td>\n      <td>27.372362</td>\n      <td>31.547823</td>\n    </tr>\n    <tr>\n      <th>1</th>\n      <td>2017-01-04</td>\n      <td>29.127501</td>\n      <td>28.937500</td>\n      <td>28.962500</td>\n      <td>29.004999</td>\n      <td>84472400.0</td>\n      <td>27.341724</td>\n      <td>31.957304</td>\n    </tr>\n    <tr>\n      <th>2</th>\n      <td>2017-01-05</td>\n      <td>29.215000</td>\n      <td>28.952499</td>\n      <td>28.980000</td>\n      <td>29.152500</td>\n      <td>88774400.0</td>\n      <td>27.480770</td>\n      <td>32.073269</td>\n    </tr>\n    <tr>\n      <th>3</th>\n      <td>2017-01-06</td>\n      <td>29.540001</td>\n      <td>29.117500</td>\n      <td>29.195000</td>\n      <td>29.477501</td>\n      <td>127007600.0</td>\n      <td>27.787130</td>\n      <td>32.035400</td>\n    </tr>\n    <tr>\n      <th>4</th>\n      <td>2017-01-09</td>\n      <td>29.857500</td>\n      <td>29.485001</td>\n      <td>29.487499</td>\n      <td>29.747499</td>\n      <td>134247600.0</td>\n      <td>28.041647</td>\n      <td>32.122974</td>\n    </tr>\n    <tr>\n      <th>...</th>\n      <td>...</td>\n      <td>...</td>\n      <td>...</td>\n      <td>...</td>\n      <td>...</td>\n      <td>...</td>\n      <td>...</td>\n      <td>...</td>\n    </tr>\n    <tr>\n      <th>974</th>\n      <td>2020-11-13</td>\n      <td>119.669998</td>\n      <td>117.870003</td>\n      <td>119.440002</td>\n      <td>119.260002</td>\n      <td>81581900.0</td>\n      <td>118.702278</td>\n      <td>131.352829</td>\n    </tr>\n    <tr>\n      <th>975</th>\n      <td>2020-11-16</td>\n      <td>120.989998</td>\n      <td>118.150002</td>\n      <td>118.919998</td>\n      <td>120.300003</td>\n      <td>91183000.0</td>\n      <td>119.737419</td>\n      <td>136.050766</td>\n    </tr>\n    <tr>\n      <th>976</th>\n      <td>2020-11-17</td>\n      <td>120.669998</td>\n      <td>118.959999</td>\n      <td>119.550003</td>\n      <td>119.389999</td>\n      <td>74271000.0</td>\n      <td>118.831673</td>\n      <td>134.239273</td>\n    </tr>\n    <tr>\n      <th>977</th>\n      <td>2020-11-18</td>\n      <td>119.820000</td>\n      <td>118.000000</td>\n      <td>118.610001</td>\n      <td>118.029999</td>\n      <td>76322100.0</td>\n      <td>117.478035</td>\n      <td>133.094650</td>\n    </tr>\n    <tr>\n      <th>978</th>\n      <td>2020-11-19</td>\n      <td>119.059998</td>\n      <td>116.809998</td>\n      <td>117.589996</td>\n      <td>118.639999</td>\n      <td>74113000.0</td>\n      <td>118.085182</td>\n      <td>132.069473</td>\n    </tr>\n  </tbody>\n</table>\n<p>979 rows × 8 columns</p>\n</div>"
     },
     "metadata": {},
     "execution_count": 9
    }
   ],
   "source": [
    "df_hastarget = create_lag_feature(df, 'Adj Close', +28, 'AdjCloseNextMonth', clip=True)\n",
    "df_hastarget"
   ]
  },
  {
   "cell_type": "code",
   "execution_count": 10,
   "metadata": {},
   "outputs": [],
   "source": [
    "split_date = '2020-01-01'\n",
    "df_train = df_hastarget[df_hastarget[\"Date\"] <= split_date]\n",
    "df_test  = df_hastarget[df_hastarget[\"Date\"] >  split_date]"
   ]
  },
  {
   "cell_type": "code",
   "execution_count": 11,
   "metadata": {},
   "outputs": [
    {
     "output_type": "execute_result",
     "data": {
      "text/plain": [
       "0.7922298446537561"
      ]
     },
     "metadata": {},
     "execution_count": 11
    }
   ],
   "source": [
    "preds = df_train['Adj Close']\n",
    "y_train = df_train['AdjCloseNextMonth']\n",
    "r2_score(y_train, preds)"
   ]
  },
  {
   "cell_type": "code",
   "execution_count": 12,
   "metadata": {},
   "outputs": [
    {
     "output_type": "execute_result",
     "data": {
      "text/plain": [
       "0.6475918545585289"
      ]
     },
     "metadata": {},
     "execution_count": 12
    }
   ],
   "source": [
    "preds = df_test['Adj Close']\n",
    "y_test = df_test['AdjCloseNextMonth']\n",
    "r2_score(y_test, preds)"
   ]
  },
  {
   "cell_type": "code",
   "execution_count": 13,
   "metadata": {},
   "outputs": [],
   "source": [
    "#partial code for 1(e) are From Lecture 17\n",
    "def preprocess_features_num(df_train, df_test, numeric_features, categorical_features, drop_features):\n",
    "\n",
    "    all_features = set(numeric_features + categorical_features + drop_features)\n",
    "    if set(df_train.columns) != all_features:\n",
    "        print(\"Missing columns\", set(df_train.columns) - all_features)\n",
    "        print(\"Extra columns\", all_features - set(df_train.columns))\n",
    "        raise Exception(\"Columns do not match\")\n",
    "    \n",
    "    numeric_transformer = Pipeline([\n",
    "        ('imputer', SimpleImputer(strategy='median')),\n",
    "        ('scaler', StandardScaler())\n",
    "    ])  \n",
    "    # categorical_transformer = Pipeline([\n",
    "    #     ('imputer', SimpleImputer(strategy='constant', fill_value='?')),\n",
    "    #     ('onehot', OneHotEncoder(handle_unknown='ignore'))\n",
    "    # ])\n",
    "    preprocessor = ColumnTransformer([\n",
    "        ('numeric', numeric_transformer, numeric_features),\n",
    "        # ('categorical', categorical_transformer, categorical_features)\n",
    "    ])\n",
    "    preprocessor.fit(df_train)\n",
    "\n",
    "    # ohe = preprocessor.named_transformers_['categorical'].named_steps['onehot']\n",
    "    # ohe_feature_names = list(ohe.get_feature_names(categorical_features))\n",
    "    new_columns = numeric_features\n",
    "    #  + ohe_feature_names\n",
    "\n",
    "    X_train_enc = pd.DataFrame(preprocessor.transform(df_train), index=df_train.index, columns=new_columns)\n",
    "    X_test_enc  = pd.DataFrame(preprocessor.transform(df_test),  index=df_test.index,  columns=new_columns)\n",
    "    \n",
    "    y_train = df_train[\"AdjCloseNextMonth\"]\n",
    "    y_test  = df_test[\"AdjCloseNextMonth\"]\n",
    "    \n",
    "    return X_train_enc, y_train, X_test_enc, y_test, preprocessor \n"
   ]
  },
  {
   "cell_type": "code",
   "execution_count": 14,
   "metadata": {},
   "outputs": [],
   "source": [
    "#partial code for 1(e) are From Lecture 17\n",
    "def preprocess_features(df_train, df_test, numeric_features, categorical_features, drop_features):\n",
    "\n",
    "    all_features = set(numeric_features + categorical_features + drop_features)\n",
    "    if set(df_train.columns) != all_features:\n",
    "        print(\"Missing columns\", set(df_train.columns) - all_features)\n",
    "        print(\"Extra columns\", all_features - set(df_train.columns))\n",
    "        raise Exception(\"Columns do not match\")\n",
    "    \n",
    "    numeric_transformer = Pipeline([\n",
    "        ('imputer', SimpleImputer(strategy='median')),\n",
    "        ('scaler', StandardScaler())\n",
    "    ])  \n",
    "    categorical_transformer = Pipeline([\n",
    "        ('imputer', SimpleImputer(strategy='constant', fill_value='?')),\n",
    "        ('onehot', OneHotEncoder(handle_unknown='ignore'))\n",
    "    ])\n",
    "    preprocessor = ColumnTransformer([\n",
    "        ('numeric', numeric_transformer, numeric_features),\n",
    "        ('categorical', categorical_transformer, categorical_features)\n",
    "    ])\n",
    "    preprocessor.fit(df_train)\n",
    "\n",
    "    ohe = preprocessor.named_transformers_['categorical'].named_steps['onehot']\n",
    "    ohe_feature_names = list(ohe.get_feature_names(categorical_features))\n",
    "    new_columns = numeric_features + ohe_feature_names\n",
    "\n",
    "    X_train_enc = pd.DataFrame(preprocessor.transform(df_train), index=df_train.index, columns=new_columns)\n",
    "    X_test_enc  = pd.DataFrame(preprocessor.transform(df_test),  index=df_test.index,  columns=new_columns)\n",
    "    \n",
    "    y_train = df_train[\"AdjCloseNextMonth\"]\n",
    "    y_test  = df_test[\"AdjCloseNextMonth\"]\n",
    "    \n",
    "    return X_train_enc, y_train, X_test_enc, y_test, preprocessor\n"
   ]
  },
  {
   "cell_type": "code",
   "execution_count": 15,
   "metadata": {},
   "outputs": [],
   "source": [
    "numeric_features = ['High', 'Low', 'Open', 'Close', 'Volume', 'Adj Close']\n",
    "categorical_features = []\n",
    "drop_features = ['Date','AdjCloseNextMonth']"
   ]
  },
  {
   "cell_type": "code",
   "execution_count": 16,
   "metadata": {},
   "outputs": [
    {
     "output_type": "execute_result",
     "data": {
      "text/plain": [
       "Index(['High', 'Low', 'Open', 'Close', 'Volume', 'Adj Close'], dtype='object')"
      ]
     },
     "metadata": {},
     "execution_count": 16
    }
   ],
   "source": [
    "df_train.columns[1:-1]"
   ]
  },
  {
   "cell_type": "code",
   "execution_count": 17,
   "metadata": {},
   "outputs": [
    {
     "output_type": "stream",
     "name": "stdout",
     "text": [
      "Training Score: 0.8452265380555766\nTest Score: 0.6967887418213946\n"
     ]
    }
   ],
   "source": [
    "\n",
    "# Method one: No Trend, No seasonality, no lag\n",
    "X_train_enc, y_train, X_test_enc, y_test, preprocessor = preprocess_features_num(df_train, df_test, \n",
    "        numeric_features, categorical_features, drop_features)\n",
    "lr_pipe = make_pipeline(preprocessor, Ridge())\n",
    "lr_pipe.fit(df_train, y_train)\n",
    "print('Training Score:',lr_pipe.score(df_train, y_train))\n",
    "print('Test Score:',lr_pipe.score(df_test, y_test))"
   ]
  },
  {
   "cell_type": "code",
   "execution_count": 18,
   "metadata": {},
   "outputs": [],
   "source": [
    "df_train = df_train.assign(Month_str=df_train[\"Date\"].apply(lambda x: x.month_name())) # x.month_name() to get the actual string\n",
    "df_test  = df_test.assign( Month_str=df_test[ \"Date\"].apply(lambda x: x.month_name()))\n",
    "df_train = df_train.assign(Month=df_train[\"Date\"].apply(lambda x: x.month)) # x.month_name() to get the actual string\n",
    "df_test  = df_test.assign( Month=df_test[ \"Date\"].apply(lambda x: x.month))\n",
    "df_train = df_train.assign(Month_sin = np.sin(2*np.pi*df_train[\"Month\"]/12))\n",
    "df_train = df_train.assign(Month_cos = np.cos(2*np.pi*df_train[\"Month\"]/12))\n",
    "df_test = df_test.assign(Month_sin = np.sin(2*np.pi*df_test[\"Month\"]/12))\n",
    "df_test = df_test.assign(Month_cos = np.cos(2*np.pi*df_test[\"Month\"]/12))\n"
   ]
  },
  {
   "cell_type": "code",
   "execution_count": 19,
   "metadata": {},
   "outputs": [
    {
     "output_type": "execute_result",
     "data": {
      "text/plain": [
       "          Date        High         Low        Open       Close       Volume  \\\n",
       "754 2020-01-02   75.150002   73.797501   74.059998   75.087502  135480400.0   \n",
       "755 2020-01-03   75.144997   74.125000   74.287498   74.357498  146322800.0   \n",
       "756 2020-01-06   74.989998   73.187500   73.447502   74.949997  118387200.0   \n",
       "757 2020-01-07   75.224998   74.370003   74.959999   74.597504  108872000.0   \n",
       "758 2020-01-08   76.110001   74.290001   74.290001   75.797501  132079200.0   \n",
       "..         ...         ...         ...         ...         ...          ...   \n",
       "974 2020-11-13  119.669998  117.870003  119.440002  119.260002   81581900.0   \n",
       "975 2020-11-16  120.989998  118.150002  118.919998  120.300003   91183000.0   \n",
       "976 2020-11-17  120.669998  118.959999  119.550003  119.389999   74271000.0   \n",
       "977 2020-11-18  119.820000  118.000000  118.610001  118.029999   76322100.0   \n",
       "978 2020-11-19  119.059998  116.809998  117.589996  118.639999   74113000.0   \n",
       "\n",
       "      Adj Close  AdjCloseNextMonth Month_str  Month  Month_sin  Month_cos  \n",
       "754   74.096443          80.911942   January      1        0.5   0.866025  \n",
       "755   73.376083          80.335754   January      1        0.5   0.866025  \n",
       "756   73.960770          80.355545   January      1        0.5   0.866025  \n",
       "757   73.612930          78.884193   January      1        0.5   0.866025  \n",
       "758   74.797081          80.026649   January      1        0.5   0.866025  \n",
       "..          ...                ...       ...    ...        ...        ...  \n",
       "974  118.702278         131.352829  November     11       -0.5   0.866025  \n",
       "975  119.737419         136.050766  November     11       -0.5   0.866025  \n",
       "976  118.831673         134.239273  November     11       -0.5   0.866025  \n",
       "977  117.478035         133.094650  November     11       -0.5   0.866025  \n",
       "978  118.085182         132.069473  November     11       -0.5   0.866025  \n",
       "\n",
       "[225 rows x 12 columns]"
      ],
      "text/html": "<div>\n<style scoped>\n    .dataframe tbody tr th:only-of-type {\n        vertical-align: middle;\n    }\n\n    .dataframe tbody tr th {\n        vertical-align: top;\n    }\n\n    .dataframe thead th {\n        text-align: right;\n    }\n</style>\n<table border=\"1\" class=\"dataframe\">\n  <thead>\n    <tr style=\"text-align: right;\">\n      <th></th>\n      <th>Date</th>\n      <th>High</th>\n      <th>Low</th>\n      <th>Open</th>\n      <th>Close</th>\n      <th>Volume</th>\n      <th>Adj Close</th>\n      <th>AdjCloseNextMonth</th>\n      <th>Month_str</th>\n      <th>Month</th>\n      <th>Month_sin</th>\n      <th>Month_cos</th>\n    </tr>\n  </thead>\n  <tbody>\n    <tr>\n      <th>754</th>\n      <td>2020-01-02</td>\n      <td>75.150002</td>\n      <td>73.797501</td>\n      <td>74.059998</td>\n      <td>75.087502</td>\n      <td>135480400.0</td>\n      <td>74.096443</td>\n      <td>80.911942</td>\n      <td>January</td>\n      <td>1</td>\n      <td>0.5</td>\n      <td>0.866025</td>\n    </tr>\n    <tr>\n      <th>755</th>\n      <td>2020-01-03</td>\n      <td>75.144997</td>\n      <td>74.125000</td>\n      <td>74.287498</td>\n      <td>74.357498</td>\n      <td>146322800.0</td>\n      <td>73.376083</td>\n      <td>80.335754</td>\n      <td>January</td>\n      <td>1</td>\n      <td>0.5</td>\n      <td>0.866025</td>\n    </tr>\n    <tr>\n      <th>756</th>\n      <td>2020-01-06</td>\n      <td>74.989998</td>\n      <td>73.187500</td>\n      <td>73.447502</td>\n      <td>74.949997</td>\n      <td>118387200.0</td>\n      <td>73.960770</td>\n      <td>80.355545</td>\n      <td>January</td>\n      <td>1</td>\n      <td>0.5</td>\n      <td>0.866025</td>\n    </tr>\n    <tr>\n      <th>757</th>\n      <td>2020-01-07</td>\n      <td>75.224998</td>\n      <td>74.370003</td>\n      <td>74.959999</td>\n      <td>74.597504</td>\n      <td>108872000.0</td>\n      <td>73.612930</td>\n      <td>78.884193</td>\n      <td>January</td>\n      <td>1</td>\n      <td>0.5</td>\n      <td>0.866025</td>\n    </tr>\n    <tr>\n      <th>758</th>\n      <td>2020-01-08</td>\n      <td>76.110001</td>\n      <td>74.290001</td>\n      <td>74.290001</td>\n      <td>75.797501</td>\n      <td>132079200.0</td>\n      <td>74.797081</td>\n      <td>80.026649</td>\n      <td>January</td>\n      <td>1</td>\n      <td>0.5</td>\n      <td>0.866025</td>\n    </tr>\n    <tr>\n      <th>...</th>\n      <td>...</td>\n      <td>...</td>\n      <td>...</td>\n      <td>...</td>\n      <td>...</td>\n      <td>...</td>\n      <td>...</td>\n      <td>...</td>\n      <td>...</td>\n      <td>...</td>\n      <td>...</td>\n      <td>...</td>\n    </tr>\n    <tr>\n      <th>974</th>\n      <td>2020-11-13</td>\n      <td>119.669998</td>\n      <td>117.870003</td>\n      <td>119.440002</td>\n      <td>119.260002</td>\n      <td>81581900.0</td>\n      <td>118.702278</td>\n      <td>131.352829</td>\n      <td>November</td>\n      <td>11</td>\n      <td>-0.5</td>\n      <td>0.866025</td>\n    </tr>\n    <tr>\n      <th>975</th>\n      <td>2020-11-16</td>\n      <td>120.989998</td>\n      <td>118.150002</td>\n      <td>118.919998</td>\n      <td>120.300003</td>\n      <td>91183000.0</td>\n      <td>119.737419</td>\n      <td>136.050766</td>\n      <td>November</td>\n      <td>11</td>\n      <td>-0.5</td>\n      <td>0.866025</td>\n    </tr>\n    <tr>\n      <th>976</th>\n      <td>2020-11-17</td>\n      <td>120.669998</td>\n      <td>118.959999</td>\n      <td>119.550003</td>\n      <td>119.389999</td>\n      <td>74271000.0</td>\n      <td>118.831673</td>\n      <td>134.239273</td>\n      <td>November</td>\n      <td>11</td>\n      <td>-0.5</td>\n      <td>0.866025</td>\n    </tr>\n    <tr>\n      <th>977</th>\n      <td>2020-11-18</td>\n      <td>119.820000</td>\n      <td>118.000000</td>\n      <td>118.610001</td>\n      <td>118.029999</td>\n      <td>76322100.0</td>\n      <td>117.478035</td>\n      <td>133.094650</td>\n      <td>November</td>\n      <td>11</td>\n      <td>-0.5</td>\n      <td>0.866025</td>\n    </tr>\n    <tr>\n      <th>978</th>\n      <td>2020-11-19</td>\n      <td>119.059998</td>\n      <td>116.809998</td>\n      <td>117.589996</td>\n      <td>118.639999</td>\n      <td>74113000.0</td>\n      <td>118.085182</td>\n      <td>132.069473</td>\n      <td>November</td>\n      <td>11</td>\n      <td>-0.5</td>\n      <td>0.866025</td>\n    </tr>\n  </tbody>\n</table>\n<p>225 rows × 12 columns</p>\n</div>"
     },
     "metadata": {},
     "execution_count": 19
    }
   ],
   "source": [
    "df_test"
   ]
  },
  {
   "cell_type": "code",
   "execution_count": 24,
   "metadata": {},
   "outputs": [
    {
     "output_type": "stream",
     "name": "stderr",
     "text": [
      "<ipython-input-7-99e37718b1ae>:37: SettingWithCopyWarning: \nA value is trying to be set on a copy of a slice from a DataFrame.\nTry using .loc[row_indexer,col_indexer] = value instead\n\nSee the caveats in the documentation: https://pandas.pydata.org/pandas-docs/stable/user_guide/indexing.html#returning-a-view-versus-a-copy\n  new_df.iloc[-lag:][new_feature_name] = df.iloc[:lag][orig_feature].values\n"
     ]
    }
   ],
   "source": [
    "df_train_lag = df_train\n",
    "df_test_lag = df_test\n",
    "lag_col = []\n",
    "df_test_lag\n",
    "for i in range(1,7):\n",
    "    df_train_lag = create_lag_feature(df_train_lag, \"Adj Close\", -i, \"AdjClosePrev\"+str(i), clip=True)\n",
    "    lag_col.append(\"AdjClosePrev\"+str(i))\n",
    "    df_test_lag = create_lag_feature(df_test_lag, \"Adj Close\", -i, \"AdjClosePrev\"+str(i), clip=False)\n",
    "\n",
    "first_day = df_train_lag['Date'].min()\n",
    "df_train_lag = df_train_lag.assign(Days_since = df_train_lag['Date'].apply(lambda x: (x-first_day).days))\n",
    "df_test_lag = df_test_lag.assign(Days_since = df_test_lag['Date'].apply(lambda x: (x-first_day).days))"
   ]
  },
  {
   "cell_type": "code",
   "execution_count": 25,
   "metadata": {},
   "outputs": [
    {
     "output_type": "execute_result",
     "data": {
      "text/plain": [
       "          Date        High         Low        Open       Close       Volume  \\\n",
       "754 2020-01-02   75.150002   73.797501   74.059998   75.087502  135480400.0   \n",
       "755 2020-01-03   75.144997   74.125000   74.287498   74.357498  146322800.0   \n",
       "756 2020-01-06   74.989998   73.187500   73.447502   74.949997  118387200.0   \n",
       "757 2020-01-07   75.224998   74.370003   74.959999   74.597504  108872000.0   \n",
       "758 2020-01-08   76.110001   74.290001   74.290001   75.797501  132079200.0   \n",
       "..         ...         ...         ...         ...         ...          ...   \n",
       "974 2020-11-13  119.669998  117.870003  119.440002  119.260002   81581900.0   \n",
       "975 2020-11-16  120.989998  118.150002  118.919998  120.300003   91183000.0   \n",
       "976 2020-11-17  120.669998  118.959999  119.550003  119.389999   74271000.0   \n",
       "977 2020-11-18  119.820000  118.000000  118.610001  118.029999   76322100.0   \n",
       "978 2020-11-19  119.059998  116.809998  117.589996  118.639999   74113000.0   \n",
       "\n",
       "      Adj Close  AdjCloseNextMonth Month_str  Month  Month_sin  Month_cos  \\\n",
       "754   74.096443          80.911942   January      1        0.5   0.866025   \n",
       "755   73.376083          80.335754   January      1        0.5   0.866025   \n",
       "756   73.960770          80.355545   January      1        0.5   0.866025   \n",
       "757   73.612930          78.884193   January      1        0.5   0.866025   \n",
       "758   74.797081          80.026649   January      1        0.5   0.866025   \n",
       "..          ...                ...       ...    ...        ...        ...   \n",
       "974  118.702278         131.352829  November     11       -0.5   0.866025   \n",
       "975  119.737419         136.050766  November     11       -0.5   0.866025   \n",
       "976  118.831673         134.239273  November     11       -0.5   0.866025   \n",
       "977  117.478035         133.094650  November     11       -0.5   0.866025   \n",
       "978  118.085182         132.069473  November     11       -0.5   0.866025   \n",
       "\n",
       "     AdjClosePrev1  AdjClosePrev2  AdjClosePrev3  AdjClosePrev4  \\\n",
       "754            NaN            NaN            NaN            NaN   \n",
       "755      74.096443            NaN            NaN            NaN   \n",
       "756      73.376083      74.096443            NaN            NaN   \n",
       "757      73.960770      73.376083      74.096443            NaN   \n",
       "758      73.612930      73.960770      73.376083      74.096443   \n",
       "..             ...            ...            ...            ...   \n",
       "974     118.652512     118.931198     115.427666     115.776031   \n",
       "975     118.702278     118.652512     118.931198     115.427666   \n",
       "976     119.737419     118.702278     118.652512     118.931198   \n",
       "977     118.831673     119.737419     118.702278     118.652512   \n",
       "978     117.478035     118.831673     119.737419     118.702278   \n",
       "\n",
       "     AdjClosePrev5  AdjClosePrev6  Days_since  \n",
       "754            NaN            NaN        1064  \n",
       "755            NaN            NaN        1065  \n",
       "756            NaN            NaN        1068  \n",
       "757            NaN            NaN        1069  \n",
       "758            NaN            NaN        1070  \n",
       "..             ...            ...         ...  \n",
       "974     118.134956     118.269310        1380  \n",
       "975     115.776031     118.134956        1383  \n",
       "976     115.427666     115.776031        1384  \n",
       "977     118.931198     115.427666        1385  \n",
       "978     118.652512     118.931198        1386  \n",
       "\n",
       "[225 rows x 19 columns]"
      ],
      "text/html": "<div>\n<style scoped>\n    .dataframe tbody tr th:only-of-type {\n        vertical-align: middle;\n    }\n\n    .dataframe tbody tr th {\n        vertical-align: top;\n    }\n\n    .dataframe thead th {\n        text-align: right;\n    }\n</style>\n<table border=\"1\" class=\"dataframe\">\n  <thead>\n    <tr style=\"text-align: right;\">\n      <th></th>\n      <th>Date</th>\n      <th>High</th>\n      <th>Low</th>\n      <th>Open</th>\n      <th>Close</th>\n      <th>Volume</th>\n      <th>Adj Close</th>\n      <th>AdjCloseNextMonth</th>\n      <th>Month_str</th>\n      <th>Month</th>\n      <th>Month_sin</th>\n      <th>Month_cos</th>\n      <th>AdjClosePrev1</th>\n      <th>AdjClosePrev2</th>\n      <th>AdjClosePrev3</th>\n      <th>AdjClosePrev4</th>\n      <th>AdjClosePrev5</th>\n      <th>AdjClosePrev6</th>\n      <th>Days_since</th>\n    </tr>\n  </thead>\n  <tbody>\n    <tr>\n      <th>754</th>\n      <td>2020-01-02</td>\n      <td>75.150002</td>\n      <td>73.797501</td>\n      <td>74.059998</td>\n      <td>75.087502</td>\n      <td>135480400.0</td>\n      <td>74.096443</td>\n      <td>80.911942</td>\n      <td>January</td>\n      <td>1</td>\n      <td>0.5</td>\n      <td>0.866025</td>\n      <td>NaN</td>\n      <td>NaN</td>\n      <td>NaN</td>\n      <td>NaN</td>\n      <td>NaN</td>\n      <td>NaN</td>\n      <td>1064</td>\n    </tr>\n    <tr>\n      <th>755</th>\n      <td>2020-01-03</td>\n      <td>75.144997</td>\n      <td>74.125000</td>\n      <td>74.287498</td>\n      <td>74.357498</td>\n      <td>146322800.0</td>\n      <td>73.376083</td>\n      <td>80.335754</td>\n      <td>January</td>\n      <td>1</td>\n      <td>0.5</td>\n      <td>0.866025</td>\n      <td>74.096443</td>\n      <td>NaN</td>\n      <td>NaN</td>\n      <td>NaN</td>\n      <td>NaN</td>\n      <td>NaN</td>\n      <td>1065</td>\n    </tr>\n    <tr>\n      <th>756</th>\n      <td>2020-01-06</td>\n      <td>74.989998</td>\n      <td>73.187500</td>\n      <td>73.447502</td>\n      <td>74.949997</td>\n      <td>118387200.0</td>\n      <td>73.960770</td>\n      <td>80.355545</td>\n      <td>January</td>\n      <td>1</td>\n      <td>0.5</td>\n      <td>0.866025</td>\n      <td>73.376083</td>\n      <td>74.096443</td>\n      <td>NaN</td>\n      <td>NaN</td>\n      <td>NaN</td>\n      <td>NaN</td>\n      <td>1068</td>\n    </tr>\n    <tr>\n      <th>757</th>\n      <td>2020-01-07</td>\n      <td>75.224998</td>\n      <td>74.370003</td>\n      <td>74.959999</td>\n      <td>74.597504</td>\n      <td>108872000.0</td>\n      <td>73.612930</td>\n      <td>78.884193</td>\n      <td>January</td>\n      <td>1</td>\n      <td>0.5</td>\n      <td>0.866025</td>\n      <td>73.960770</td>\n      <td>73.376083</td>\n      <td>74.096443</td>\n      <td>NaN</td>\n      <td>NaN</td>\n      <td>NaN</td>\n      <td>1069</td>\n    </tr>\n    <tr>\n      <th>758</th>\n      <td>2020-01-08</td>\n      <td>76.110001</td>\n      <td>74.290001</td>\n      <td>74.290001</td>\n      <td>75.797501</td>\n      <td>132079200.0</td>\n      <td>74.797081</td>\n      <td>80.026649</td>\n      <td>January</td>\n      <td>1</td>\n      <td>0.5</td>\n      <td>0.866025</td>\n      <td>73.612930</td>\n      <td>73.960770</td>\n      <td>73.376083</td>\n      <td>74.096443</td>\n      <td>NaN</td>\n      <td>NaN</td>\n      <td>1070</td>\n    </tr>\n    <tr>\n      <th>...</th>\n      <td>...</td>\n      <td>...</td>\n      <td>...</td>\n      <td>...</td>\n      <td>...</td>\n      <td>...</td>\n      <td>...</td>\n      <td>...</td>\n      <td>...</td>\n      <td>...</td>\n      <td>...</td>\n      <td>...</td>\n      <td>...</td>\n      <td>...</td>\n      <td>...</td>\n      <td>...</td>\n      <td>...</td>\n      <td>...</td>\n      <td>...</td>\n    </tr>\n    <tr>\n      <th>974</th>\n      <td>2020-11-13</td>\n      <td>119.669998</td>\n      <td>117.870003</td>\n      <td>119.440002</td>\n      <td>119.260002</td>\n      <td>81581900.0</td>\n      <td>118.702278</td>\n      <td>131.352829</td>\n      <td>November</td>\n      <td>11</td>\n      <td>-0.5</td>\n      <td>0.866025</td>\n      <td>118.652512</td>\n      <td>118.931198</td>\n      <td>115.427666</td>\n      <td>115.776031</td>\n      <td>118.134956</td>\n      <td>118.269310</td>\n      <td>1380</td>\n    </tr>\n    <tr>\n      <th>975</th>\n      <td>2020-11-16</td>\n      <td>120.989998</td>\n      <td>118.150002</td>\n      <td>118.919998</td>\n      <td>120.300003</td>\n      <td>91183000.0</td>\n      <td>119.737419</td>\n      <td>136.050766</td>\n      <td>November</td>\n      <td>11</td>\n      <td>-0.5</td>\n      <td>0.866025</td>\n      <td>118.702278</td>\n      <td>118.652512</td>\n      <td>118.931198</td>\n      <td>115.427666</td>\n      <td>115.776031</td>\n      <td>118.134956</td>\n      <td>1383</td>\n    </tr>\n    <tr>\n      <th>976</th>\n      <td>2020-11-17</td>\n      <td>120.669998</td>\n      <td>118.959999</td>\n      <td>119.550003</td>\n      <td>119.389999</td>\n      <td>74271000.0</td>\n      <td>118.831673</td>\n      <td>134.239273</td>\n      <td>November</td>\n      <td>11</td>\n      <td>-0.5</td>\n      <td>0.866025</td>\n      <td>119.737419</td>\n      <td>118.702278</td>\n      <td>118.652512</td>\n      <td>118.931198</td>\n      <td>115.427666</td>\n      <td>115.776031</td>\n      <td>1384</td>\n    </tr>\n    <tr>\n      <th>977</th>\n      <td>2020-11-18</td>\n      <td>119.820000</td>\n      <td>118.000000</td>\n      <td>118.610001</td>\n      <td>118.029999</td>\n      <td>76322100.0</td>\n      <td>117.478035</td>\n      <td>133.094650</td>\n      <td>November</td>\n      <td>11</td>\n      <td>-0.5</td>\n      <td>0.866025</td>\n      <td>118.831673</td>\n      <td>119.737419</td>\n      <td>118.702278</td>\n      <td>118.652512</td>\n      <td>118.931198</td>\n      <td>115.427666</td>\n      <td>1385</td>\n    </tr>\n    <tr>\n      <th>978</th>\n      <td>2020-11-19</td>\n      <td>119.059998</td>\n      <td>116.809998</td>\n      <td>117.589996</td>\n      <td>118.639999</td>\n      <td>74113000.0</td>\n      <td>118.085182</td>\n      <td>132.069473</td>\n      <td>November</td>\n      <td>11</td>\n      <td>-0.5</td>\n      <td>0.866025</td>\n      <td>117.478035</td>\n      <td>118.831673</td>\n      <td>119.737419</td>\n      <td>118.702278</td>\n      <td>118.652512</td>\n      <td>118.931198</td>\n      <td>1386</td>\n    </tr>\n  </tbody>\n</table>\n<p>225 rows × 19 columns</p>\n</div>"
     },
     "metadata": {},
     "execution_count": 25
    }
   ],
   "source": [
    "df_test_lag"
   ]
  },
  {
   "cell_type": "code",
   "execution_count": 26,
   "metadata": {},
   "outputs": [],
   "source": [
    "df_test_lag = df_test_lag.dropna()"
   ]
  },
  {
   "cell_type": "code",
   "execution_count": 27,
   "metadata": {},
   "outputs": [
    {
     "output_type": "execute_result",
     "data": {
      "text/plain": [
       "          Date        High         Low        Open       Close       Volume  \\\n",
       "760 2020-01-10   78.167503   77.062500   77.650002   77.582497  140644800.0   \n",
       "761 2020-01-13   79.267502   77.787498   77.910004   79.239998  121532000.0   \n",
       "762 2020-01-14   79.392502   78.042503   79.175003   78.169998  161954400.0   \n",
       "763 2020-01-15   78.875000   77.387497   77.962502   77.834999  121923600.0   \n",
       "764 2020-01-16   78.925003   78.022499   78.397499   78.809998  108829200.0   \n",
       "..         ...         ...         ...         ...         ...          ...   \n",
       "974 2020-11-13  119.669998  117.870003  119.440002  119.260002   81581900.0   \n",
       "975 2020-11-16  120.989998  118.150002  118.919998  120.300003   91183000.0   \n",
       "976 2020-11-17  120.669998  118.959999  119.550003  119.389999   74271000.0   \n",
       "977 2020-11-18  119.820000  118.000000  118.610001  118.029999   76322100.0   \n",
       "978 2020-11-19  119.059998  116.809998  117.589996  118.639999   74113000.0   \n",
       "\n",
       "      Adj Close  AdjCloseNextMonth Month_str  Month  Month_sin  Month_cos  \\\n",
       "760   76.558517          77.412834   January      1        0.5   0.866025   \n",
       "761   78.194145          73.735695   January      1        0.5   0.866025   \n",
       "762   77.138260          71.238098   January      1        0.5   0.866025   \n",
       "763   76.807701          72.368210   January      1        0.5   0.866025   \n",
       "764   77.769821          67.637627   January      1        0.5   0.866025   \n",
       "..          ...                ...       ...    ...        ...        ...   \n",
       "974  118.702278         131.352829  November     11       -0.5   0.866025   \n",
       "975  119.737419         136.050766  November     11       -0.5   0.866025   \n",
       "976  118.831673         134.239273  November     11       -0.5   0.866025   \n",
       "977  117.478035         133.094650  November     11       -0.5   0.866025   \n",
       "978  118.085182         132.069473  November     11       -0.5   0.866025   \n",
       "\n",
       "     AdjClosePrev1  AdjClosePrev2  AdjClosePrev3  AdjClosePrev4  \\\n",
       "760      76.385834      74.797081      73.612930      73.960770   \n",
       "761      76.558517      76.385834      74.797081      73.612930   \n",
       "762      78.194145      76.558517      76.385834      74.797081   \n",
       "763      77.138260      78.194145      76.558517      76.385834   \n",
       "764      76.807701      77.138260      78.194145      76.558517   \n",
       "..             ...            ...            ...            ...   \n",
       "974     118.652512     118.931198     115.427666     115.776031   \n",
       "975     118.702278     118.652512     118.931198     115.427666   \n",
       "976     119.737419     118.702278     118.652512     118.931198   \n",
       "977     118.831673     119.737419     118.702278     118.652512   \n",
       "978     117.478035     118.831673     119.737419     118.702278   \n",
       "\n",
       "     AdjClosePrev5  AdjClosePrev6  Days_since  \n",
       "760      73.376083      74.096443        1072  \n",
       "761      73.960770      73.376083        1075  \n",
       "762      73.612930      73.960770        1076  \n",
       "763      74.797081      73.612930        1077  \n",
       "764      76.385834      74.797081        1078  \n",
       "..             ...            ...         ...  \n",
       "974     118.134956     118.269310        1380  \n",
       "975     115.776031     118.134956        1383  \n",
       "976     115.427666     115.776031        1384  \n",
       "977     118.931198     115.427666        1385  \n",
       "978     118.652512     118.931198        1386  \n",
       "\n",
       "[219 rows x 19 columns]"
      ],
      "text/html": "<div>\n<style scoped>\n    .dataframe tbody tr th:only-of-type {\n        vertical-align: middle;\n    }\n\n    .dataframe tbody tr th {\n        vertical-align: top;\n    }\n\n    .dataframe thead th {\n        text-align: right;\n    }\n</style>\n<table border=\"1\" class=\"dataframe\">\n  <thead>\n    <tr style=\"text-align: right;\">\n      <th></th>\n      <th>Date</th>\n      <th>High</th>\n      <th>Low</th>\n      <th>Open</th>\n      <th>Close</th>\n      <th>Volume</th>\n      <th>Adj Close</th>\n      <th>AdjCloseNextMonth</th>\n      <th>Month_str</th>\n      <th>Month</th>\n      <th>Month_sin</th>\n      <th>Month_cos</th>\n      <th>AdjClosePrev1</th>\n      <th>AdjClosePrev2</th>\n      <th>AdjClosePrev3</th>\n      <th>AdjClosePrev4</th>\n      <th>AdjClosePrev5</th>\n      <th>AdjClosePrev6</th>\n      <th>Days_since</th>\n    </tr>\n  </thead>\n  <tbody>\n    <tr>\n      <th>760</th>\n      <td>2020-01-10</td>\n      <td>78.167503</td>\n      <td>77.062500</td>\n      <td>77.650002</td>\n      <td>77.582497</td>\n      <td>140644800.0</td>\n      <td>76.558517</td>\n      <td>77.412834</td>\n      <td>January</td>\n      <td>1</td>\n      <td>0.5</td>\n      <td>0.866025</td>\n      <td>76.385834</td>\n      <td>74.797081</td>\n      <td>73.612930</td>\n      <td>73.960770</td>\n      <td>73.376083</td>\n      <td>74.096443</td>\n      <td>1072</td>\n    </tr>\n    <tr>\n      <th>761</th>\n      <td>2020-01-13</td>\n      <td>79.267502</td>\n      <td>77.787498</td>\n      <td>77.910004</td>\n      <td>79.239998</td>\n      <td>121532000.0</td>\n      <td>78.194145</td>\n      <td>73.735695</td>\n      <td>January</td>\n      <td>1</td>\n      <td>0.5</td>\n      <td>0.866025</td>\n      <td>76.558517</td>\n      <td>76.385834</td>\n      <td>74.797081</td>\n      <td>73.612930</td>\n      <td>73.960770</td>\n      <td>73.376083</td>\n      <td>1075</td>\n    </tr>\n    <tr>\n      <th>762</th>\n      <td>2020-01-14</td>\n      <td>79.392502</td>\n      <td>78.042503</td>\n      <td>79.175003</td>\n      <td>78.169998</td>\n      <td>161954400.0</td>\n      <td>77.138260</td>\n      <td>71.238098</td>\n      <td>January</td>\n      <td>1</td>\n      <td>0.5</td>\n      <td>0.866025</td>\n      <td>78.194145</td>\n      <td>76.558517</td>\n      <td>76.385834</td>\n      <td>74.797081</td>\n      <td>73.612930</td>\n      <td>73.960770</td>\n      <td>1076</td>\n    </tr>\n    <tr>\n      <th>763</th>\n      <td>2020-01-15</td>\n      <td>78.875000</td>\n      <td>77.387497</td>\n      <td>77.962502</td>\n      <td>77.834999</td>\n      <td>121923600.0</td>\n      <td>76.807701</td>\n      <td>72.368210</td>\n      <td>January</td>\n      <td>1</td>\n      <td>0.5</td>\n      <td>0.866025</td>\n      <td>77.138260</td>\n      <td>78.194145</td>\n      <td>76.558517</td>\n      <td>76.385834</td>\n      <td>74.797081</td>\n      <td>73.612930</td>\n      <td>1077</td>\n    </tr>\n    <tr>\n      <th>764</th>\n      <td>2020-01-16</td>\n      <td>78.925003</td>\n      <td>78.022499</td>\n      <td>78.397499</td>\n      <td>78.809998</td>\n      <td>108829200.0</td>\n      <td>77.769821</td>\n      <td>67.637627</td>\n      <td>January</td>\n      <td>1</td>\n      <td>0.5</td>\n      <td>0.866025</td>\n      <td>76.807701</td>\n      <td>77.138260</td>\n      <td>78.194145</td>\n      <td>76.558517</td>\n      <td>76.385834</td>\n      <td>74.797081</td>\n      <td>1078</td>\n    </tr>\n    <tr>\n      <th>...</th>\n      <td>...</td>\n      <td>...</td>\n      <td>...</td>\n      <td>...</td>\n      <td>...</td>\n      <td>...</td>\n      <td>...</td>\n      <td>...</td>\n      <td>...</td>\n      <td>...</td>\n      <td>...</td>\n      <td>...</td>\n      <td>...</td>\n      <td>...</td>\n      <td>...</td>\n      <td>...</td>\n      <td>...</td>\n      <td>...</td>\n      <td>...</td>\n    </tr>\n    <tr>\n      <th>974</th>\n      <td>2020-11-13</td>\n      <td>119.669998</td>\n      <td>117.870003</td>\n      <td>119.440002</td>\n      <td>119.260002</td>\n      <td>81581900.0</td>\n      <td>118.702278</td>\n      <td>131.352829</td>\n      <td>November</td>\n      <td>11</td>\n      <td>-0.5</td>\n      <td>0.866025</td>\n      <td>118.652512</td>\n      <td>118.931198</td>\n      <td>115.427666</td>\n      <td>115.776031</td>\n      <td>118.134956</td>\n      <td>118.269310</td>\n      <td>1380</td>\n    </tr>\n    <tr>\n      <th>975</th>\n      <td>2020-11-16</td>\n      <td>120.989998</td>\n      <td>118.150002</td>\n      <td>118.919998</td>\n      <td>120.300003</td>\n      <td>91183000.0</td>\n      <td>119.737419</td>\n      <td>136.050766</td>\n      <td>November</td>\n      <td>11</td>\n      <td>-0.5</td>\n      <td>0.866025</td>\n      <td>118.702278</td>\n      <td>118.652512</td>\n      <td>118.931198</td>\n      <td>115.427666</td>\n      <td>115.776031</td>\n      <td>118.134956</td>\n      <td>1383</td>\n    </tr>\n    <tr>\n      <th>976</th>\n      <td>2020-11-17</td>\n      <td>120.669998</td>\n      <td>118.959999</td>\n      <td>119.550003</td>\n      <td>119.389999</td>\n      <td>74271000.0</td>\n      <td>118.831673</td>\n      <td>134.239273</td>\n      <td>November</td>\n      <td>11</td>\n      <td>-0.5</td>\n      <td>0.866025</td>\n      <td>119.737419</td>\n      <td>118.702278</td>\n      <td>118.652512</td>\n      <td>118.931198</td>\n      <td>115.427666</td>\n      <td>115.776031</td>\n      <td>1384</td>\n    </tr>\n    <tr>\n      <th>977</th>\n      <td>2020-11-18</td>\n      <td>119.820000</td>\n      <td>118.000000</td>\n      <td>118.610001</td>\n      <td>118.029999</td>\n      <td>76322100.0</td>\n      <td>117.478035</td>\n      <td>133.094650</td>\n      <td>November</td>\n      <td>11</td>\n      <td>-0.5</td>\n      <td>0.866025</td>\n      <td>118.831673</td>\n      <td>119.737419</td>\n      <td>118.702278</td>\n      <td>118.652512</td>\n      <td>118.931198</td>\n      <td>115.427666</td>\n      <td>1385</td>\n    </tr>\n    <tr>\n      <th>978</th>\n      <td>2020-11-19</td>\n      <td>119.059998</td>\n      <td>116.809998</td>\n      <td>117.589996</td>\n      <td>118.639999</td>\n      <td>74113000.0</td>\n      <td>118.085182</td>\n      <td>132.069473</td>\n      <td>November</td>\n      <td>11</td>\n      <td>-0.5</td>\n      <td>0.866025</td>\n      <td>117.478035</td>\n      <td>118.831673</td>\n      <td>119.737419</td>\n      <td>118.702278</td>\n      <td>118.652512</td>\n      <td>118.931198</td>\n      <td>1386</td>\n    </tr>\n  </tbody>\n</table>\n<p>219 rows × 19 columns</p>\n</div>"
     },
     "metadata": {},
     "execution_count": 27
    }
   ],
   "source": [
    "df_test_lag"
   ]
  },
  {
   "cell_type": "code",
   "execution_count": 28,
   "metadata": {},
   "outputs": [
    {
     "output_type": "stream",
     "name": "stdout",
     "text": [
      "Training Score: 0.8557177825619929\nTest Score: 0.6777513336674255\n"
     ]
    }
   ],
   "source": [
    "\n",
    "X_train_enc, y_train, X_test_enc, y_test, preprocessor = preprocess_features(df_train_lag, df_test_lag, \n",
    "        numeric_features+[\"Month_sin\", \"Month_cos\"]+lag_col+[\"Days_since\"],\n",
    "        categorical_features+['Month_str'],\n",
    "        drop_features+['Month'])\n",
    "lr_pipe = make_pipeline(preprocessor, Ridge())\n",
    "lr_pipe.fit(df_train_lag, y_train)\n",
    "print('Training Score:',lr_pipe.score(df_train_lag, y_train))\n",
    "print('Test Score:',lr_pipe.score(df_test_lag, y_test))"
   ]
  }
 ]
}